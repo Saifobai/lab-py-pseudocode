{
 "cells": [
  {
   "cell_type": "markdown",
   "metadata": {},
   "source": [
    "# LAB | Pseudocode Using Python\n",
    "\n",
    "## Overview\n",
    "\n",
    "This exercise will help you practice writing pseudocode and translating it into Python code. Pseudocode is a way to describe algorithms in a human-readable format, which can then be implemented in programming languages.\n",
    "\n"
   ]
  },
  {
   "cell_type": "markdown",
   "metadata": {},
   "source": [
    "### Exercise 1: Multiply Two Numbers\n",
    "\n",
    "Write a pseudocode to read two numbers and multiply them together. Then, write the equivalent Python code."
   ]
  },
  {
   "cell_type": "markdown",
   "metadata": {},
   "source": [
    "<!-- Add your pseudocode here -->"
   ]
  },
  {
   "cell_type": "code",
   "execution_count": null,
   "metadata": {},
   "outputs": [],
   "source": [
    "# Add your code solution here\n",
    "// Declare two variables to hold the numbers\n",
    "DECLARE number1\n",
    "DECLARE number2\n",
    "\n",
    "// Declare a variable to hold the result\n",
    "DECLARE product\n",
    "\n",
    "// Prompt the user to enter the first number\n",
    "DISPLAY \"Enter the first number:\"\n",
    "\n",
    "// Read the first number from the user and store it\n",
    "READ number1\n",
    "\n",
    "// Prompt the user to enter the second number\n",
    "DISPLAY \"Enter the second number:\"\n",
    "\n",
    "// Read the second number from the user and store it\n",
    "READ number2\n",
    "\n",
    "// Multiply the two numbers together\n",
    "SET product = number1 * number2\n",
    "\n",
    "// Display the result to the user\n",
    "DISPLAY \"The product is:\", product\n",
    "\n",
    "END"
   ]
  },
  {
   "cell_type": "markdown",
   "metadata": {},
   "source": [
    "### Exercise 2: Check Even or Odd\n",
    "\n",
    "Write pseudocode that checks if a number is even or odd and prints the result. Then, write the equivalent Python code."
   ]
  },
  {
   "cell_type": "markdown",
   "metadata": {},
   "source": [
    "<!-- Add your pseudocode here -->"
   ]
  },
  {
   "cell_type": "code",
   "execution_count": null,
   "metadata": {},
   "outputs": [],
   "source": [
    "# Add your code solution here\n",
    "// Declare a variable to hold the number\n",
    "DECLARE number\n",
    "\n",
    "// Prompt the user to enter a number\n",
    "DISPLAY \"Enter an integer:\"\n",
    "\n",
    "// Read the number from the user and store it\n",
    "READ number\n",
    "\n",
    "// Use the modulo operator to check for a remainder when divided by 2\n",
    "IF number % 2 == 0 THEN\n",
    "// If the remainder is 0, the number is even\n",
    "DISPLAY number, \"is an even number.\"\n",
    "ELSE\n",
    "// If there is a remainder, the number is odd\n",
    "DISPLAY number, \"is an odd number.\"\n",
    "END IF\n",
    "\n",
    "END"
   ]
  },
  {
   "cell_type": "markdown",
   "metadata": {},
   "source": [
    "### Exercise 3: Sum of First N Natural Numbers\n",
    "\n",
    "Write pseudocode to calculate the sum of the first N natural numbers. Then, write the equivalent Python code."
   ]
  },
  {
   "cell_type": "markdown",
   "metadata": {},
   "source": [
    "<!-- Add your pseudocode here -->"
   ]
  },
  {
   "cell_type": "code",
   "execution_count": null,
   "metadata": {},
   "outputs": [],
   "source": [
    "# Add your code solution here\n",
    "START\n",
    "    INPUT N\n",
    "    SET sum ← 0\n",
    "    FOR i ← 1 TO N DO\n",
    "        sum ← sum + i\n",
    "    END FOR\n",
    "    OUTPUT sum\n",
    "END\n"
   ]
  },
  {
   "cell_type": "markdown",
   "metadata": {},
   "source": [
    "### Exercise 4: Find Maximum of Three Numbers\n",
    "\n",
    "Write pseudocode that finds the maximum of three numbers entered by the user. Then, write the equivalent Python code."
   ]
  },
  {
   "cell_type": "markdown",
   "metadata": {},
   "source": [
    "<!-- Add your pseudocode here -->"
   ]
  },
  {
   "cell_type": "code",
   "execution_count": null,
   "metadata": {},
   "outputs": [],
   "source": [
    "# Add your code solution here\n",
    "START\n",
    "    INPUT a, b, c\n",
    "    SET max ← a\n",
    "\n",
    "    IF b > max THEN\n",
    "        max ← b\n",
    "    END IF\n",
    "\n",
    "    IF c > max THEN\n",
    "        max ← c\n",
    "    END IF\n",
    "\n",
    "    OUTPUT max\n",
    "END\n"
   ]
  },
  {
   "cell_type": "markdown",
   "metadata": {},
   "source": [
    "### Exercise 5: Count Vowels in a String\n",
    "\n",
    "Write pseudocode to count the number of vowels in a given string and print the count. Then, write the equivalent Python code."
   ]
  },
  {
   "cell_type": "markdown",
   "metadata": {},
   "source": [
    "<!-- Add your pseudocode here -->"
   ]
  },
  {
   "cell_type": "code",
   "execution_count": null,
   "metadata": {},
   "outputs": [],
   "source": [
    "# Add your code solution here\n",
    "START\n",
    "    INPUT text\n",
    "    SET count ← 0\n",
    "    SET vowels ← \"aeiouAEIOU\"\n",
    "\n",
    "    FOR each character ch in text DO\n",
    "        IF ch is in vowels THEN\n",
    "            count ← count + 1\n",
    "        END IF\n",
    "    END FOR\n",
    "\n",
    "    OUTPUT count\n",
    "END\n"
   ]
  },
  {
   "cell_type": "markdown",
   "metadata": {},
   "source": [
    "## Bonus Exercises\n",
    "\n",
    "### Bonus Exercise 6: Reverse a String\n",
    "\n",
    "Write pseudocode to reverse a given string and print it out."
   ]
  },
  {
   "cell_type": "markdown",
   "metadata": {},
   "source": [
    "<!-- Add your pseudocode here -->"
   ]
  },
  {
   "cell_type": "code",
   "execution_count": null,
   "metadata": {},
   "outputs": [],
   "source": [
    "# Add your code solution here\n",
    "START\n",
    "\n",
    "// Declare a variable to hold the input string\n",
    "DECLARE original_string\n",
    "\n",
    "// Declare an empty string to hold the reversed string\n",
    "DECLARE reversed_string = \"\"\n",
    "\n",
    "// Prompt the user for a string\n",
    "DISPLAY \"Enter a string to reverse:\"\n",
    "\n",
    "// Read the string from the user\n",
    "READ original_string\n",
    "\n",
    "// Get the length of the string\n",
    "DECLARE length = length(original_string)\n",
    "\n",
    "// Loop through the original string from the last character to the first\n",
    "FOR i FROM length-1 DOWNTO 0\n",
    "// Append each character to the new reversed string\n",
    "reversed_string = reversed_string + original_string[i]\n",
    "END FOR\n",
    "\n",
    "// Display the reversed string\n",
    "DISPLAY \"The reversed string is:\", reversed_string\n",
    "\n",
    "END"
   ]
  },
  {
   "cell_type": "markdown",
   "metadata": {},
   "source": [
    "### Bonus Exercise 7: Print Multiplication Table of a Number\n",
    "\n",
    "Write pseudocode to print the multiplication table of a given number up to 10."
   ]
  },
  {
   "cell_type": "markdown",
   "metadata": {},
   "source": [
    "<!-- Add your pseudocode here -->"
   ]
  },
  {
   "cell_type": "code",
   "execution_count": null,
   "metadata": {},
   "outputs": [],
   "source": [
    "# Add your code solution here\n",
    "START\n",
    "\n",
    "// Declare a variable to hold the number\n",
    "DECLARE number\n",
    "\n",
    "// Prompt the user to enter a number\n",
    "DISPLAY \"Enter a number to see its multiplication table:\"\n",
    "\n",
    "// Read the number from the user\n",
    "READ number\n",
    "\n",
    "// Use a loop to iterate from 1 to 10\n",
    "FOR i FROM 1 TO 10\n",
    "// Calculate the product\n",
    "DECLARE product = number * i\n",
    "\n",
    "// Display the multiplication equation and the product\n",
    "DISPLAY number, \"x\", i, \"=\", product\n",
    "\n",
    "END FOR\n",
    "\n",
    "END"
   ]
  },
  {
   "cell_type": "markdown",
   "metadata": {},
   "source": [
    "### Bonus Exercise 8: Count Words in a String\n",
    "\n",
    "Write pseudocode that counts the words in a given string and prints the result."
   ]
  },
  {
   "cell_type": "markdown",
   "metadata": {},
   "source": [
    "<!-- Add your pseudocode here -->"
   ]
  },
  {
   "cell_type": "code",
   "execution_count": 46,
   "metadata": {},
   "outputs": [],
   "source": [
    "# Add your code solution here"
   ]
  },
  {
   "cell_type": "markdown",
   "metadata": {},
   "source": [
    "### Bonus Exercise 9: Find Factorial of a Number\n",
    "\n",
    "Write pseudocode that calculates the factorial of a given positive integer."
   ]
  },
  {
   "cell_type": "markdown",
   "metadata": {},
   "source": [
    "<!-- Add your pseudocode here -->"
   ]
  },
  {
   "cell_type": "code",
   "execution_count": null,
   "metadata": {},
   "outputs": [],
   "source": [
    "# Add your code solution here\n",
    "// Declare a variable to hold the input number\n",
    "DECLARE number\n",
    "\n",
    "// Declare a variable to hold the factorial, initialized to 1\n",
    "DECLARE factorial = 1\n",
    "\n",
    "// Prompt the user to enter a positive integer\n",
    "DISPLAY \"Enter a positive integer:\"\n",
    "\n",
    "// Read the number from the user\n",
    "READ number\n",
    "\n",
    "// Check if the number is negative\n",
    "IF number < 0 THEN\n",
    "DISPLAY \"Factorial is not defined for negative numbers.\"\n",
    "// Check if the number is 0\n",
    "ELSE IF number == 0 THEN\n",
    "DISPLAY \"The factorial of 0 is 1.\"\n",
    "// Calculate the factorial for a positive number\n",
    "ELSE\n",
    "// Loop from the input number down to 1\n",
    "FOR i FROM number DOWNTO 1\n",
    "// Multiply the current factorial by the loop counter\n",
    "factorial = factorial * i\n",
    "END FOR\n",
    "// Display the result\n",
    "DISPLAY \"The factorial of\", number, \"is\", factorial\n",
    "END IF\n",
    "\n",
    "END"
   ]
  },
  {
   "cell_type": "markdown",
   "metadata": {},
   "source": [
    "### Bonus Exercise 10: FizzBuzz Problem\n",
    "\n",
    "Write pseudocode for the FizzBuzz problem where you print numbers from 1 to N but replace multiples of three with \"Fizz\" and multiples of five with \"Buzz\"."
   ]
  },
  {
   "cell_type": "markdown",
   "metadata": {},
   "source": [
    "<!-- Add your pseudocode here -->"
   ]
  },
  {
   "cell_type": "code",
   "execution_count": 48,
   "metadata": {},
   "outputs": [],
   "source": [
    "# Add your code solution here"
   ]
  }
 ],
 "metadata": {
  "kernelspec": {
   "display_name": ".venv",
   "language": "python",
   "name": "python3"
  },
  "language_info": {
   "codemirror_mode": {
    "name": "ipython",
    "version": 3
   },
   "file_extension": ".py",
   "mimetype": "text/x-python",
   "name": "python",
   "nbconvert_exporter": "python",
   "pygments_lexer": "ipython3",
   "version": "3.8.0"
  }
 },
 "nbformat": 4,
 "nbformat_minor": 2
}
